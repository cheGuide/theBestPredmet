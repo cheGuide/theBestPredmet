{
  "cells": [
    {
      "cell_type": "code",
      "execution_count": null,
      "metadata": {
        "vscode": {
          "languageId": "plaintext"
        }
      },
      "outputs": [],
      "source": [
        "# 🧠 TIOI PZ1: Логический движок с бенчмаркингом\n",
        "\n",
        "Система логического вывода с анализом производительности и машинного обучения.\n",
        "\n",
        "**Возможности:**\n",
        "- Обработка логических правил (AND, OR, NOT)\n",
        "- Бенчмарк производительности\n",
        "- Сравнение алгоритмов (градиентный спуск vs sklearn)\n",
        "- Визуализация результатов\n"
      ]
    },
    {
      "cell_type": "code",
      "execution_count": null,
      "metadata": {
        "vscode": {
          "languageId": "plaintext"
        }
      },
      "outputs": [],
      "source": [
        "## 📦 Установка зависимостей\n"
      ]
    },
    {
      "cell_type": "code",
      "execution_count": null,
      "metadata": {},
      "outputs": [],
      "source": [
        "!pip install matplotlib numpy scikit-learn\n"
      ]
    },
    {
      "cell_type": "code",
      "execution_count": null,
      "metadata": {},
      "outputs": [],
      "source": [
        "# Создаём файлы проекта\n",
        "import json\n",
        "\n",
        "# === rules.json ===\n",
        "rules_data = [\n",
        "    {\"if\": {\"or\": [1, 2]}, \"then\": 10},\n",
        "    {\"if\": {\"not\": [10, 11]}, \"then\": 15},\n",
        "    {\"if\": {\"not\": [15, 16]}, \"then\": 50}\n",
        "]\n",
        "\n",
        "with open('rules.json', 'w', encoding='utf-8') as f:\n",
        "    json.dump(rules_data, f, indent=2)\n",
        "\n",
        "# === facts.json ===\n",
        "facts_data = [1, 2]\n",
        "with open('facts.json', 'w', encoding='utf-8') as f:\n",
        "    json.dump(facts_data, f)\n",
        "\n",
        "print(\"✅ Файлы проекта созданы!\")\n"
      ]
    },
    {
      "cell_type": "code",
      "execution_count": null,
      "metadata": {},
      "outputs": [],
      "source": [
        "# Основной код логического движка\n",
        "import random\n",
        "import time\n",
        "import matplotlib.pyplot as plt\n",
        "import numpy as np\n",
        "from sklearn.linear_model import LinearRegression\n",
        "\n",
        "def read_rules(file_path):\n",
        "    with open(file_path, \"r\", encoding=\"utf-8\") as f:\n",
        "        return json.load(f)\n",
        "\n",
        "def read_facts(file_path):\n",
        "    with open(file_path, \"r\", encoding=\"utf-8\") as f:\n",
        "        return json.load(f)\n",
        "\n",
        "def process_rules(rules, facts):\n",
        "    known_facts = set(facts)\n",
        "    new_facts = []\n",
        "    \n",
        "    for rule in rules:\n",
        "        if \"if\" not in rule or \"then\" not in rule:\n",
        "            continue\n",
        "        \n",
        "        condition = rule[\"if\"]\n",
        "        operator = list(condition.keys())[0]\n",
        "        values = set(condition[operator])\n",
        "        outcome = rule[\"then\"]\n",
        "        \n",
        "        if operator == \"and\" and values.issubset(known_facts):\n",
        "            new_facts.append(outcome)\n",
        "        elif operator == \"or\" and values.intersection(known_facts):\n",
        "            new_facts.append(outcome)\n",
        "        elif operator == \"not\" and not values.intersection(known_facts):\n",
        "            new_facts.append(outcome)\n",
        "    \n",
        "    known_facts.update(new_facts)\n",
        "    return list(known_facts)\n",
        "\n",
        "print(\"✅ Логический движок загружен!\")\n"
      ]
    },
    {
      "cell_type": "code",
      "execution_count": null,
      "metadata": {},
      "outputs": [],
      "source": [
        "# Тестирование логического движка\n",
        "rule_data = read_rules(\"rules.json\")\n",
        "fact_data = read_facts(\"facts.json\")\n",
        "\n",
        "print(\"📋 Исходные правила:\")\n",
        "for i, rule in enumerate(rule_data, 1):\n",
        "    print(f\"  {i}. {rule}\")\n",
        "\n",
        "print(f\"\\n📊 Исходные факты: {fact_data}\")\n",
        "\n",
        "# Обрабатываем правила\n",
        "final_result = process_rules(rule_data, fact_data)\n",
        "\n",
        "print(f\"\\n🎯 Результат логического вывода: {sorted(final_result)}\")\n",
        "print(f\"✨ Новые факты: {sorted(set(final_result) - set(fact_data))}\")\n",
        "\n",
        "# Объяснение логики\n",
        "print(\"\\n🧠 Логика вывода:\")\n",
        "print(\"  1. Факт 1 ИЛИ 2 → выводим 10 (правило 1)\")\n",
        "print(\"  2. НЕ 10 И НЕ 11 → НЕ выполнено (есть факт 10)\")\n",
        "print(\"  3. НЕ 15 И НЕ 16 → выводим 50 (нет фактов 15,16)\")\n"
      ]
    }
  ],
  "metadata": {
    "language_info": {
      "name": "python"
    }
  },
  "nbformat": 4,
  "nbformat_minor": 2
}
